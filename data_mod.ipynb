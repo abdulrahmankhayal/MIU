{
 "cells": [
  {
   "cell_type": "code",
   "execution_count": 13,
   "metadata": {},
   "outputs": [],
   "source": [
    "import os\n",
    "import os.path\n",
    "from os import listdir"
   ]
  },
  {
   "cell_type": "code",
   "execution_count": 16,
   "metadata": {},
   "outputs": [],
   "source": [
    "def missing_file(img_path,ann_path):\n",
    "    img=listdir(img_path)\n",
    "    ann=listdir(ann_path)\n",
    "\n",
    "    for filename in img:\n",
    "        path=ann_path+\"\\\\\"+filename[:-4]+\".xml\"\n",
    "        if os.path.exists(path):\n",
    "            continue\n",
    "        else:\n",
    "              os.remove(img_path+\"\\\\\"+filename)\n",
    "              print(filename +\"image removed\")\n",
    "\n",
    "    for filename in ann:\n",
    "        path=img_path+\"\\\\\"+filename[:-4]+\".jpg\"\n",
    "        if os.path.exists(path):\n",
    "            continue\n",
    "        else:\n",
    "              os.remove(ann_path+\"\\\\\"+filename)\n",
    "              print(filename +\"annot removed\")\n",
    "    img=listdir(img_path)\n",
    "    ann=listdir(ann_path)\n",
    "\n",
    "    return len(img)==len(ann)"
   ]
  },
  {
   "cell_type": "code",
   "execution_count": 11,
   "metadata": {},
   "outputs": [],
   "source": [
    "def RenameImgs(img_path,name):\n",
    "    indexlist=['{0:04}'.format(num) for num in range(1, 10000)]\n",
    "    img=listdir(img_path)\n",
    "    y=[indexlist,img]\n",
    "    for i in range(len(img)):\n",
    "        src=img_path+y[1][i]\n",
    "        dst=name+y[0][i]+\".jpg\"\n",
    "        os.rename(src,dst )\n",
    "def RenameAnnots(ann_path,name):\n",
    "    indexlist=['{0:04}'.format(num) for num in range(1, 10000)]\n",
    "    ann=listdir(ann_path)\n",
    "    y=[indexlist,ann]\n",
    "    for i in range(len(ann)):\n",
    "        src=ann_path+y[1][i]\n",
    "        dst=name+y[0][i]+\".xml\"\n",
    "        os.rename(src,dst )"
   ]
  },
  {
   "cell_type": "code",
   "execution_count": 17,
   "metadata": {},
   "outputs": [],
   "source": [
    "def RenameData(img_path,ann_path,name):\n",
    "    RenameImgs(img_path,name)\n",
    "    RenameAnnots(ann_path,name)\n",
    "    \n",
    "    "
   ]
  },
  {
   "cell_type": "code",
   "execution_count": null,
   "metadata": {},
   "outputs": [],
   "source": []
  }
 ],
 "metadata": {
  "kernelspec": {
   "display_name": "Python 3",
   "language": "python",
   "name": "python3"
  },
  "language_info": {
   "codemirror_mode": {
    "name": "ipython",
    "version": 3
   },
   "file_extension": ".py",
   "mimetype": "text/x-python",
   "name": "python",
   "nbconvert_exporter": "python",
   "pygments_lexer": "ipython3",
   "version": "3.7.6"
  }
 },
 "nbformat": 4,
 "nbformat_minor": 4
}
