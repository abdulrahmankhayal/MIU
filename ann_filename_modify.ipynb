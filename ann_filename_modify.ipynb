{
 "cells": [
  {
   "cell_type": "code",
   "execution_count": 1,
   "metadata": {},
   "outputs": [],
   "source": [
    "import xml.etree.ElementTree as ET\n",
    "from os import listdir\n",
    "import os"
   ]
  },
  {
   "cell_type": "code",
   "execution_count": 14,
   "metadata": {},
   "outputs": [],
   "source": [
    "def modify(directory):\n",
    "    indexlist=[\"img\"+'{0:04}'.format(num)+\".jpg\" for num in range(0, 10000)]\n",
    "    xml_files=listdir(directory)\n",
    "    for index,xml_file in enumerate(xml_files):\n",
    "        file_path = os.path.join(directory,xml_file)\n",
    "        tree = ET.parse(file_path)\n",
    "        root = tree.getroot()\n",
    "        root.find('filename').text=indexlist[index]\n",
    "        tree.write(xml_file)\n"
   ]
  },
  {
   "cell_type": "code",
   "execution_count": 27,
   "metadata": {},
   "outputs": [],
   "source": [
    "def test(directory):\n",
    "    xml_files=listdir(directory)\n",
    "    for xml_file in xml_files:\n",
    "        file_path = xml_file\n",
    "        tree = ET.parse(file_path)\n",
    "        root = tree.getroot()\n",
    "        name=root.find('filename').text\n",
    "        if name[:-4] != xml_file[:-4]:\n",
    "            print(name)"
   ]
  }
 ],
 "metadata": {
  "kernelspec": {
   "display_name": "Python 3",
   "language": "python",
   "name": "python3"
  },
  "language_info": {
   "codemirror_mode": {
    "name": "ipython",
    "version": 3
   },
   "file_extension": ".py",
   "mimetype": "text/x-python",
   "name": "python",
   "nbconvert_exporter": "python",
   "pygments_lexer": "ipython3",
   "version": "3.7.6"
  }
 },
 "nbformat": 4,
 "nbformat_minor": 4
}
